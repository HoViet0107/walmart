{
 "cells": [
  {
   "cell_type": "code",
   "execution_count": 3,
   "metadata": {},
   "outputs": [],
   "source": [
    "from etl.extractor.extractor import DataFrameExtractor\n",
    "from pyspark.sql import SparkSession\n",
    "from etl.tranform.transform import CustomerDataTransformer,PurchaseHistoryDataTransformer,ProductDataTransformer\n",
    "from etl.validator_data import ValidatorImpl\n",
    "\n",
    "from pyspark.sql.types import *\n",
    "from pyspark.sql.functions import col, countDistinct, when, count, isnan"
   ]
  },
  {
   "cell_type": "code",
   "execution_count": 5,
   "metadata": {},
   "outputs": [],
   "source": [
    "# # Tạo Spark Session\n",
    "spark = SparkSession.builder \\\n",
    "    .appName(\"PySpark MySQL Connection\") \\\n",
    "    .master(\"local[*]\") \\\n",
    "    .config(\"spark.jars\", \"./connector/mysql-connector-java-8.0.30.jar\") \\\n",
    "    .getOrCreate()"
   ]
  },
  {
   "cell_type": "markdown",
   "metadata": {},
   "source": [
    "**Extractor**"
   ]
  },
  {
   "cell_type": "code",
   "execution_count": 6,
   "metadata": {},
   "outputs": [],
   "source": [
    "# B1: Trích xuất dữ liệu từ các nguồn\n",
    "fas_purchase_df = (DataFrameExtractor(spark)\n",
    "                    .extract(\"csv\", \"dataset/fashion_purchase_history.csv\"))\n",
    "customer_df = (DataFrameExtractor(spark)\n",
    "                    .extract(\"csv\", \"dataset/customer.csv\"))\n",
    "product_df = (DataFrameExtractor(spark)\n",
    "                    .extract(\"csv\", \"dataset/products.csv\"))"
   ]
  },
  {
   "cell_type": "markdown",
   "metadata": {},
   "source": [
    "**Transfrom**"
   ]
  },
  {
   "cell_type": "code",
   "execution_count": 7,
   "metadata": {},
   "outputs": [
    {
     "name": "stdout",
     "output_type": "stream",
     "text": [
      "\u001b[1mKiểu dữ liệu:\n",
      "root\n",
      " |-- customer_id: integer (nullable = true)\n",
      " |-- first_name: string (nullable = true)\n",
      " |-- last_name: string (nullable = true)\n",
      " |-- gender: string (nullable = true)\n",
      " |-- date_of_birth: timestamp (nullable = true)\n",
      " |-- email: string (nullable = true)\n",
      " |-- phone_number: string (nullable = true)\n",
      " |-- signup_date: timestamp (nullable = true)\n",
      " |-- address: string (nullable = true)\n",
      " |-- city: string (nullable = true)\n",
      "\n",
      "root\n",
      " |-- customer_id: integer (nullable = true)\n",
      " |-- item_purchased: string (nullable = true)\n",
      " |-- purchase_amount: double (nullable = true)\n",
      " |-- quantity: integer (nullable = true)\n",
      " |-- date_purchase: date (nullable = true)\n",
      " |-- review_rating: double (nullable = true)\n",
      " |-- payment_method: string (nullable = true)\n",
      "\n",
      "root\n",
      " |-- item: string (nullable = true)\n",
      " |-- category: string (nullable = true)\n",
      "\n",
      "\u001b[1mNull:\n",
      "+-----------+----------+---------+------+-------------+-----+------------+-----------+-------+----+\n",
      "|customer_id|first_name|last_name|gender|date_of_birth|email|phone_number|signup_date|address|city|\n",
      "+-----------+----------+---------+------+-------------+-----+------------+-----------+-------+----+\n",
      "|          0|         1|        0|     1|            1|    2|           1|          0|      1|   2|\n",
      "+-----------+----------+---------+------+-------------+-----+------------+-----------+-------+----+\n",
      "\n",
      "+-----------+--------------+---------------+--------+-------------+-------------+--------------+\n",
      "|customer_id|item_purchased|purchase_amount|quantity|date_purchase|review_rating|payment_method|\n",
      "+-----------+--------------+---------------+--------+-------------+-------------+--------------+\n",
      "|          0|             0|              8|       0|            0|            5|             0|\n",
      "+-----------+--------------+---------------+--------+-------------+-------------+--------------+\n",
      "\n",
      "+----+--------+\n",
      "|item|category|\n",
      "+----+--------+\n",
      "|   0|       1|\n",
      "+----+--------+\n",
      "\n",
      "\u001b[1mBản ghi lặp:\n",
      "+-----------+----------+---------+------+-------------------+---------------+\n",
      "|customer_id|first_name|last_name|gender|      date_of_birth|duplicate_count|\n",
      "+-----------+----------+---------+------+-------------------+---------------+\n",
      "|       4054|   William|    Davis|Female|1995-06-26 03:31:42|              2|\n",
      "|       4101|     Emily|   Garcia|Female|1989-09-21 17:56:31|              2|\n",
      "|       4070|      John| Martinez|Female|1971-06-18 20:39:32|              2|\n",
      "+-----------+----------+---------+------+-------------------+---------------+\n",
      "\n",
      "+-----------+--------------+-------------+---------------+\n",
      "|customer_id|item_purchased|date_purchase|duplicate_count|\n",
      "+-----------+--------------+-------------+---------------+\n",
      "|       4107|      Swimsuit|   2023-07-02|              2|\n",
      "|       4064|       Sandals|   2022-10-08|              2|\n",
      "+-----------+--------------+-------------+---------------+\n",
      "\n",
      "+----+--------+---------------+\n",
      "|item|category|duplicate_count|\n",
      "+----+--------+---------------+\n",
      "+----+--------+---------------+\n",
      "\n"
     ]
    }
   ],
   "source": [
    "# kiểm tra kiểu dữ liệu\n",
    "print('\\033[1m' +\"Kiểu dữ liệu:\")\n",
    "customer_df.printSchema()\n",
    "fas_purchase_df.printSchema()\n",
    "product_df.printSchema()\n",
    "\n",
    "# kiểm tra null\n",
    "print('\\033[1m' + \"Null:\")\n",
    "ValidatorImpl().check_null_values(customer_df)\n",
    "ValidatorImpl().check_null_values(fas_purchase_df)\n",
    "ValidatorImpl().check_null_values(product_df)\n",
    "\n",
    "# kiểm tra giá trị lặp\n",
    "print('\\033[1m' +\"Bản ghi lặp:\")\n",
    "ValidatorImpl().check_duplicate_records(customer_df,['customer_id', 'first_name', 'last_name', 'gender', 'date_of_birth'])\n",
    "ValidatorImpl().check_duplicate_records(fas_purchase_df,['customer_id', 'item_purchased', 'date_purchase'])\n",
    "ValidatorImpl().check_duplicate_records(product_df,['item', 'category'])"
   ]
  },
  {
   "cell_type": "code",
   "execution_count": 8,
   "metadata": {},
   "outputs": [],
   "source": [
    "'''\n",
    "chuyển đổi kiểu dữ liệu:\n",
    "    - date_of_birth: TimeStamp -> Date\n",
    "    - date_purchase: Date -> Timestamp\n",
    "    - review_rating: Double -> Floatx\n",
    "'''\n",
    "cleand_customer_df = CustomerDataTransformer().transform(customer_df)\n",
    "\n",
    "cleand_fas_purchase_df = PurchaseHistoryDataTransformer().transform(fas_purchase_df)\n",
    "\n",
    "cleand_product_df = ProductDataTransformer().transform(product_df)"
   ]
  },
  {
   "cell_type": "code",
   "execution_count": 9,
   "metadata": {},
   "outputs": [
    {
     "name": "stdout",
     "output_type": "stream",
     "text": [
      "root\n",
      " |-- customer_id: integer (nullable = true)\n",
      " |-- first_name: string (nullable = false)\n",
      " |-- last_name: string (nullable = false)\n",
      " |-- gender: string (nullable = false)\n",
      " |-- date_of_birth: date (nullable = true)\n",
      " |-- email: string (nullable = false)\n",
      " |-- phone_number: string (nullable = false)\n",
      " |-- signup_date: timestamp (nullable = true)\n",
      " |-- address: string (nullable = false)\n",
      " |-- city: string (nullable = false)\n",
      "\n",
      "root\n",
      " |-- customer_id: integer (nullable = true)\n",
      " |-- item_purchased: string (nullable = true)\n",
      " |-- purchase_amount: double (nullable = false)\n",
      " |-- quantity: integer (nullable = true)\n",
      " |-- date_purchase: timestamp (nullable = true)\n",
      " |-- review_rating: float (nullable = false)\n",
      " |-- payment_method: string (nullable = true)\n",
      "\n",
      "root\n",
      " |-- item: string (nullable = true)\n",
      " |-- category: string (nullable = false)\n",
      "\n"
     ]
    }
   ],
   "source": [
    "# kiểm tra kiểu dữ liệu\n",
    "cleand_customer_df.printSchema()\n",
    "cleand_fas_purchase_df.printSchema()\n",
    "cleand_product_df.printSchema()"
   ]
  },
  {
   "cell_type": "code",
   "execution_count": 10,
   "metadata": {},
   "outputs": [
    {
     "name": "stdout",
     "output_type": "stream",
     "text": [
      "+-----------+----------+---------+------+-------------+---------------+\n",
      "|customer_id|first_name|last_name|gender|date_of_birth|duplicate_count|\n",
      "+-----------+----------+---------+------+-------------+---------------+\n",
      "+-----------+----------+---------+------+-------------+---------------+\n",
      "\n",
      "+-----------+--------------+-------------+---------------+\n",
      "|customer_id|item_purchased|date_purchase|duplicate_count|\n",
      "+-----------+--------------+-------------+---------------+\n",
      "+-----------+--------------+-------------+---------------+\n",
      "\n",
      "+----+--------+---------------+\n",
      "|item|category|duplicate_count|\n",
      "+----+--------+---------------+\n",
      "+----+--------+---------------+\n",
      "\n"
     ]
    }
   ],
   "source": [
    "# kiểm tra giá trị lặp\n",
    "ValidatorImpl().check_duplicate_records(cleand_customer_df,['customer_id', 'first_name', 'last_name', 'gender', 'date_of_birth'])\n",
    "ValidatorImpl().check_duplicate_records(cleand_fas_purchase_df,['customer_id', 'item_purchased', 'date_purchase'])\n",
    "ValidatorImpl().check_duplicate_records(cleand_product_df,['item', 'category'])\n"
   ]
  },
  {
   "cell_type": "markdown",
   "metadata": {},
   "source": [
    "**Load**"
   ]
  }
 ],
 "metadata": {
  "kernelspec": {
   "display_name": ".venv",
   "language": "python",
   "name": "python3"
  },
  "language_info": {
   "codemirror_mode": {
    "name": "ipython",
    "version": 3
   },
   "file_extension": ".py",
   "mimetype": "text/x-python",
   "name": "python",
   "nbconvert_exporter": "python",
   "pygments_lexer": "ipython3",
   "version": "3.13.2"
  }
 },
 "nbformat": 4,
 "nbformat_minor": 2
}
